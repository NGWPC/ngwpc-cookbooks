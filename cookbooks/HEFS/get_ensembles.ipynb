{
 "cells": [
  {
   "cell_type": "markdown",
   "id": "0",
   "metadata": {},
   "source": [
    "### Getting HEFS Ensembles"
   ]
  },
  {
   "cell_type": "code",
   "execution_count": null,
   "id": "1",
   "metadata": {},
   "outputs": [],
   "source": [
    "import httpx\n",
    "import matplotlib.pyplot as plt\n",
    "import pandas as pd\n",
    "\n",
    "API_ENDPOINT = \"https://api.water.noaa.gov/hefs\"\n",
    "LOCATION_ID = \"ANAW1\"\n",
    "PARAMETER_ID = \"QINE\"\n",
    "uri = API_ENDPOINT + f\"/v1/hydrograph-quantiles/?location_id={LOCATION_ID}&parameter_id={PARAMETER_ID}\""
   ]
  },
  {
   "cell_type": "code",
   "execution_count": null,
   "id": "2",
   "metadata": {},
   "outputs": [],
   "source": [
    "response = httpx.get(uri)\n",
    "response.json()"
   ]
  },
  {
   "cell_type": "code",
   "execution_count": null,
   "id": "3",
   "metadata": {},
   "outputs": [],
   "source": [
    "data_rows = []\n",
    "for result in response.json()[\"value_set\"]:\n",
    "    datetime_str = result[\"valid_datetime\"].replace(\"T\", \" \").replace(\"Z\", \"\")\n",
    "    parsed_datetime = pd.to_datetime(datetime_str)\n",
    "    for i, value in enumerate(result[\"quantile_values\"]):\n",
    "        data_rows.append({\"datetime\": parsed_datetime, \"quantile_index\": i, \"value\": value})\n",
    "\n",
    "df = pd.DataFrame(data_rows)\n",
    "df_pivot = df.pivot(index=\"datetime\", columns=\"quantile_index\", values=\"value\")\n",
    "\n",
    "# Plot each quantile series\n",
    "plt.figure(figsize=(10, 6))\n",
    "for col in df_pivot.columns:\n",
    "    plt.plot(df_pivot.index, df_pivot[col])\n",
    "\n",
    "exceed = response.json()[\"metadata\"][\"exceedance_quantiles\"]\n",
    "\n",
    "ax = plt.subplot(111)\n",
    "box = ax.get_position()\n",
    "ax.set_position([box.x0, box.y0, box.width * 0.8, box.height])\n",
    "plt.legend(\n",
    "    exceed, title=\"Exceedance Probability\", loc=\"center left\", fontsize=\"small\", bbox_to_anchor=(1, 0.5)\n",
    ")\n",
    "\n",
    "plt.xlabel(\"Time\")\n",
    "plt.ylabel(\"Value\")\n",
    "plt.title(\"Quantiles for Different Probabilities\")\n",
    "plt.xticks(rotation=\"vertical\")\n",
    "plt.show()"
   ]
  },
  {
   "cell_type": "code",
   "execution_count": null,
   "id": "4",
   "metadata": {},
   "outputs": [],
   "source": []
  }
 ],
 "metadata": {
  "kernelspec": {
   "display_name": ".venv",
   "language": "python",
   "name": "python3"
  },
  "language_info": {
   "codemirror_mode": {
    "name": "ipython",
    "version": 3
   },
   "file_extension": ".py",
   "mimetype": "text/x-python",
   "name": "python",
   "nbconvert_exporter": "python",
   "pygments_lexer": "ipython3",
   "version": "3.13.2"
  }
 },
 "nbformat": 4,
 "nbformat_minor": 5
}
