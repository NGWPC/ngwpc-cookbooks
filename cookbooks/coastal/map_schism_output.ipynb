{
 "cells": [
  {
   "cell_type": "markdown",
   "id": "0",
   "metadata": {},
   "source": [
    "## Coastal Cookbook: How to synchronize SCHISM outputs to work with T-Route if there are different datums\n",
    "\n",
    "This notebook will walk through how to synchronize SCHISM output files based on the coastal mesh datum and the t-route datum. \n",
    "\n",
    "##### Required files:\n",
    "- Crosswalk points for the v2.2 hydrofabric in the AtlGulfCrosswalk domain \n",
    "  - obtained by running the `datum-sync/tools/create_coastal_csv.py` using the `conus_nextgen.gpkg` file with the latest hydrofabric flowlines and the polygons denoting the crosswalk points from the `ngen-forcing/coastal/Coastal_Modeling_Preprocessing_Scripts/Coastal_Data/Semi_Circle_Polygons/Atlantic/AtlGulf/AtlGulf_InflowsOutflows_CCBuff.shp` file\n",
    "- Outputs from the SCHISM coastal model\n",
    "  - Using the outputs from an NWM coastal test case in the OE at `/efs/Zhengtao.Cui/schism_forecast_test/schism_forecast_2025051100/outputs/`"
   ]
  },
  {
   "cell_type": "code",
   "execution_count": null,
   "id": "1",
   "metadata": {},
   "outputs": [],
   "source": [
    "import os\n",
    "import re\n",
    "from pathlib import Path\n",
    "\n",
    "import geopandas as gpd\n",
    "import numpy as np\n",
    "import xarray as xr\n",
    "import pandas as pd\n",
    "from pyprojroot import here\n",
    "from scipy.spatial import cKDTree\n",
    "\n",
    "project_root = here()\n",
    "schism_output_dir = Path(\"/efs/Zhengtao.Cui/schism_forecast_test/schism_forecast_2025051100/outputs/\")"
   ]
  },
  {
   "cell_type": "markdown",
   "id": "2",
   "metadata": {},
   "source": [
    "First, we're going to open all of the schism outputs into one xarray dataset to view the contents"
   ]
  },
  {
   "cell_type": "code",
   "execution_count": null,
   "id": "3",
   "metadata": {},
   "outputs": [],
   "source": [
    "outputfiles = sorted(\n",
    "    schism_output_dir.glob('out2d_*.nc'), \n",
    "    key=lambda x: float(re.findall(r\"out2d_(\\d+)\\.nc\", x.name)[0])\n",
    ")"
   ]
  },
  {
   "cell_type": "code",
   "execution_count": null,
   "id": "4",
   "metadata": {},
   "outputs": [],
   "source": [
    "ds = xr.open_mfdataset(outputfiles, engine=\"netcdf4\")"
   ]
  },
  {
   "cell_type": "code",
   "execution_count": null,
   "id": "5",
   "metadata": {},
   "outputs": [],
   "source": [
    "ds"
   ]
  },
  {
   "cell_type": "markdown",
   "id": "6",
   "metadata": {},
   "source": [
    "Next, We're going to make a kd-tree for nearest neighbor searches within the mesh. Through this, we can determine where the source points we care about are located and their indices"
   ]
  },
  {
   "cell_type": "code",
   "execution_count": null,
   "id": "7",
   "metadata": {},
   "outputs": [],
   "source": [
    "schism_nodes = np.column_stack([ds.isel(time=0).SCHISM_hgrid_node_x.values,ds.isel(time=0).SCHISM_hgrid_node_y.values])\n",
    "tree = cKDTree(schism_nodes)"
   ]
  },
  {
   "cell_type": "markdown",
   "id": "8",
   "metadata": {},
   "source": [
    "Now that we have the kd-tree, we're going to determine which crosswalk points from the AtlGulf pre-computed file and subset our schism outputs"
   ]
  },
  {
   "cell_type": "code",
   "execution_count": null,
   "id": "9",
   "metadata": {},
   "outputs": [],
   "source": [
    "cw = gpd.read_file(project_root / \"AtlGulf_hf_cross_walk.gpkg\")\n",
    "cw_df = pd.read_csv(project_root / \"AtlGulf_hf_cross_walk.csv\")\n",
    "fp = gpd.read_file(project_root / \"troute_run_dir/domain/lower_colorado.gpkg\", layer=\"flowpaths\")\n",
    "intersection_points = cw_df[cw_df[\"id\"].isin(fp[\"id\"])]\n",
    "cw = cw[cw[\"id\"].isin(fp[\"id\"])]\n",
    "coords = intersection_points[[\"longitude\", \"latitude\"]].values\n",
    "distances, indices = tree.query(coords)\n",
    "schism_subset = ds.isel(nSCHISM_hgrid_node=indices)"
   ]
  },
  {
   "cell_type": "markdown",
   "id": "10",
   "metadata": {},
   "source": [
    "Once the SCHISM data is subset, we can run our BMI-module for datum synchronization\n",
    "\n",
    "#### NOTE: for this example we are pretending the SCHISM OUTPUT uses EPSG:4979. This is not true as SCHISM uses NAVD88. This is an example just to show how the projection could be done if the T-Route and SCHISM datums were different"
   ]
  },
  {
   "cell_type": "code",
   "execution_count": null,
   "id": "11",
   "metadata": {},
   "outputs": [],
   "source": [
    "#------------------------------------------------------\n",
    "#Initialize the BMI model\n",
    "#------------------------------------------------------\n",
    "os.chdir(project_root / \"extern/datum-sync\")\n",
    "import yaml\n",
    "from pathlib import Path\n",
    "import numpy as np\n",
    "import pandas as pd\n",
    "import xarray as xr\n",
    "\n",
    "from datum_sync.bmi.bmi_datum_sync import BmiDatumSync\n",
    "\n",
    "data = {\n",
    "    \"crs_input\": 4979,  #WGS84 + Height  \n",
    "    \"crs_output\": 5498,  #NAVD83 + NAVD88\n",
    "    \"z_warn\": True,\n",
    "}\n",
    "config_file = project_root / \"source_sync.yaml\"\n",
    "with open(config_file, 'w') as file:\n",
    "    yaml.dump(data, file)\n",
    "\n",
    "model = BmiDatumSync()\n",
    "model.initialize(config_file)\n",
    "#------------------------------------------------------\n",
    "#Process SCHISM dataset time series\n",
    "#------------------------------------------------------\n",
    "\n",
    "# Extract coordinates (constant across time)\n",
    "lon_values = schism_subset.SCHISM_hgrid_node_x.isel(time=0).values\n",
    "lat_values = schism_subset.SCHISM_hgrid_node_y.isel(time=0).values\n",
    "\n",
    "n_times = schism_subset.time.shape[0]\n",
    "n_points = len(lon_values)\n",
    "\n",
    "# Initialize output arrays\n",
    "converted_coords = np.zeros((n_times, n_points, 3))  # [time, points, [lon,lat,elev]]\n",
    "print(f\"Converting {n_points} nodes across {n_times} time steps...\")\n",
    "\n",
    "# Process each time step\n",
    "for t in range(n_times):\n",
    "    # Get elevation values for this time step\n",
    "    elev_values = schism_subset.elevation.isel(time=t).values\n",
    "    \n",
    "    # Set BMI input values\n",
    "    model.set_value(\"longitude\", lon_values.tolist())\n",
    "    model.set_value(\"latitude\", lat_values.tolist()) \n",
    "    model.set_value(\"elevation\", elev_values.tolist())\n",
    "    \n",
    "    # Run conversion\n",
    "    model.update()\n",
    "    \n",
    "    # Get converted coordinates\n",
    "    dest_array = np.zeros(n_points * 3)\n",
    "    model.get_value(\"coordinates__output\", dest_array)\n",
    "    converted_coords[t, :, :] = dest_array.reshape((n_points, 3), order=\"F\")\n",
    "\n",
    "# ------------------------------------------------------\n",
    "# Update SCHISM dataset with converted values\n",
    "# ------------------------------------------------------\n",
    "\n",
    "schism_converted = schism_subset.copy(deep=True)\n",
    "\n",
    "# Update coordinates\n",
    "schism_converted['SCHISM_hgrid_node_x'] = (\n",
    "    ('time', 'nSCHISM_hgrid_node'), \n",
    "    converted_coords[:, :, 0]\n",
    ")\n",
    "schism_converted['SCHISM_hgrid_node_y'] = (\n",
    "    ('time', 'nSCHISM_hgrid_node'), \n",
    "    converted_coords[:, :, 1]\n",
    ")\n",
    "schism_converted['elevation'] = (\n",
    "    ('time', 'nSCHISM_hgrid_node'),\n",
    "    converted_coords[:, :, 2]\n",
    ")\n",
    "\n",
    "# Convert Depth\n",
    "schism_converted['depth'] = np.abs(schism_subset.depth)\n",
    "\n",
    "# ------------------------------------------------------\n",
    "# Save results\n",
    "# ------------------------------------------------------\n",
    "keep_vars = ['elevation', 'SCHISM_hgrid_node_x', 'SCHISM_hgrid_node_y', 'depth']\n",
    "schism_minimal = schism_converted[keep_vars]\n",
    "\n",
    "# Optional Saving of results\n",
    "# output_path = project_root / \"datum_sync_schism_output.nc\"\n",
    "# schism_minimal.to_netcdf(output_path)\n",
    "\n",
    "print(\"Finalize\")\n",
    "model.finalize()"
   ]
  },
  {
   "cell_type": "markdown",
   "id": "12",
   "metadata": {},
   "source": [
    "Now that the datum is \"synchronized\", we can plot the outputs using geopandas to verify where our SCHISM outputs can be used by the diffusive wave model. \n",
    "\n",
    "#### NOTE: the outputs of this notebook are based on the Specification from the t-route wiki for coastal modeling"
   ]
  },
  {
   "cell_type": "code",
   "execution_count": null,
   "id": "13",
   "metadata": {},
   "outputs": [],
   "source": [
    "from shapely.geometry import Point\n",
    "\n",
    "lon, lat = schism_minimal.SCHISM_hgrid_node_x.isel(time=0).values, schism_minimal.SCHISM_hgrid_node_y.isel(time=0).values\n",
    "geometry = [Point(x, y) for x, y in zip(lon, lat)]\n",
    "gdf = gpd.GeoDataFrame(geometry=geometry, crs='EPSG:4326')\n",
    "m = fp.explore(color=\"blue\")\n",
    "gdf.explore(m=m, color=\"red\")"
   ]
  },
  {
   "cell_type": "markdown",
   "id": "14",
   "metadata": {},
   "source": [
    "If you want to view the values of the schism dataset before and after the datum sync:"
   ]
  },
  {
   "cell_type": "code",
   "execution_count": null,
   "id": "15",
   "metadata": {},
   "outputs": [],
   "source": [
    "# Before the datum change at the output timestep\n",
    "schism_subset.elevation.isel(time=-1).values"
   ]
  },
  {
   "cell_type": "code",
   "execution_count": null,
   "id": "16",
   "metadata": {},
   "outputs": [],
   "source": [
    "# After the datum change at the output timestep\n",
    "schism_minimal.elevation.isel(time=-1).values"
   ]
  },
  {
   "cell_type": "markdown",
   "id": "17",
   "metadata": {},
   "source": [
    "In conclusion: \n",
    "- This work demonstrates the integration of the coastal and inland datums through the use of a BMI module to synchronize datums\n",
    "- This work uses SCHISM outputs and formats them to fit the T-Route diffusive wave specification\n",
    "- This work provides data which can be inspected for a \"sample test case\" "
   ]
  },
  {
   "cell_type": "code",
   "execution_count": null,
   "id": "18",
   "metadata": {},
   "outputs": [],
   "source": []
  }
 ],
 "metadata": {
  "kernelspec": {
   "display_name": "Python 3 (ipykernel)",
   "language": "python",
   "name": "python3"
  },
  "language_info": {
   "codemirror_mode": {
    "name": "ipython",
    "version": 3
   },
   "file_extension": ".py",
   "mimetype": "text/x-python",
   "name": "python",
   "nbconvert_exporter": "python",
   "pygments_lexer": "ipython3",
   "version": "3.12.8"
  }
 },
 "nbformat": 4,
 "nbformat_minor": 5
}
